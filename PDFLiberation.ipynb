{
 "metadata": {
  "name": "PDFLiberation"
 },
 "nbformat": 3,
 "nbformat_minor": 0,
 "worksheets": [
  {
   "cells": [
    {
     "cell_type": "code",
     "collapsed": false,
     "input": [
      "#!/usr/bin/python\n",
      "import requests"
     ],
     "language": "python",
     "metadata": {},
     "outputs": []
    },
    {
     "cell_type": "code",
     "collapsed": false,
     "input": [
      "#first step is to get the list of pdf file names and urls\n",
      "root_url = \"http://www.cityofjerseycity.com\"\n",
      "budget_url = root_url+\"/pub-info.aspx?id=2430\""
     ],
     "language": "python",
     "metadata": {},
     "outputs": []
    },
    {
     "cell_type": "code",
     "collapsed": false,
     "input": [
      "page = requests.get(budget_url).content"
     ],
     "language": "python",
     "metadata": {},
     "outputs": []
    },
    {
     "cell_type": "code",
     "collapsed": false,
     "input": [
      "import re\n",
      "links = re.findall(r\"<a.*?\\s*href=\\\"(.*?)\\\".*?>(.*?)</a>\", page) "
     ],
     "language": "python",
     "metadata": {},
     "outputs": []
    },
    {
     "cell_type": "code",
     "collapsed": false,
     "input": [
      "#got all the links on the page, but need only pdf's\n",
      "#remove spaces and braces from the file names\n",
      "\n",
      "pdf_files = []\n",
      "\n",
      "dir_download = \"download/\"\n",
      "dir_ocr = \"ocr/\"\n",
      "\n",
      "for link in links: \n",
      "            if link[0].endswith(\".pdf\"):\n",
      "                pdf_file = link[0]\n",
      "                dataset_type = link[1]\n",
      "                local_file = dataset_type.replace(\" \",\"\")\n",
      "                local_file = local_file.replace(\"(\",\"\")\n",
      "                local_file = local_file.replace(\")\",\"\")\n",
      "                local_file = local_file.replace(\"<br/>\",\"\") + \".pdf\"\n",
      "                pdf_files.append( [root_url+pdf_file, pdf_file, dir_download+local_file,dir_ocr+local_file,dataset_type] )"
     ],
     "language": "python",
     "metadata": {},
     "outputs": []
    },
    {
     "cell_type": "code",
     "collapsed": false,
     "input": [
      "#down load the files into local directory ./download\n",
      "import urllib\n",
      "\n",
      "for pdf_file in pdf_files:\n",
      "    print \"loading \", pdf_file[0], \" to \", pdf_file[2]\n",
      "    r = urllib.urlretrieve(pdf_file[0], pdf_file[2])\n",
      "    print r\n",
      "    print \"done...\""
     ],
     "language": "python",
     "metadata": {},
     "outputs": []
    },
    {
     "cell_type": "code",
     "collapsed": false,
     "input": [
      "#test if file is image or text\n",
      "import envoy\n",
      "\n",
      "def isSearchable( file_name ):\n",
      "    r = envoy.run('strings ' + file_name + ' | grep Font')\n",
      "    if \"Font\" in r.std_out:\n",
      "        return True\n",
      "    else:\n",
      "        return False"
     ],
     "language": "python",
     "metadata": {},
     "outputs": []
    },
    {
     "cell_type": "code",
     "collapsed": false,
     "input": [
      "#OCR with ABBYY for files that are not searchable (image)\n",
      "import envoy\n",
      "\n",
      "for pdf_file in pdf_files:\n",
      "    if not isSearchable( pdf_file[2] ):\n",
      "        cmd = \"./process.py \" + pdf_file[2] + \" \" + pdf_file[3] + \" -pdf\"\n",
      "        print cmd\n",
      "        rr = envoy.run(cmd)\n",
      "        print \"done...\""
     ],
     "language": "python",
     "metadata": {},
     "outputs": []
    },
    {
     "cell_type": "code",
     "collapsed": false,
     "input": [
      "#Make a call to tabula to convert searchable pdf to cvs"
     ],
     "language": "python",
     "metadata": {},
     "outputs": []
    },
    {
     "cell_type": "code",
     "collapsed": false,
     "input": [
      "#Data scraping, converting into structured data"
     ],
     "language": "python",
     "metadata": {},
     "outputs": []
    },
    {
     "cell_type": "code",
     "collapsed": false,
     "input": [
      "#Download CSV and .json into https://data.openjerseycity.org/dataset/jersey-city-2013-budget-adopted-spending"
     ],
     "language": "python",
     "metadata": {},
     "outputs": []
    }
   ],
   "metadata": {}
  }
 ]
}